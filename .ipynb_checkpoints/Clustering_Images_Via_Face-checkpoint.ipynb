{
 "cells": [
  {
   "cell_type": "code",
   "execution_count": 9,
   "id": "68c85816-8180-4986-8f36-ff9a0b892d83",
   "metadata": {},
   "outputs": [],
   "source": [
    "import numpy as np\n",
    "import cv2\n",
    "import face_recognition\n",
    "import os\n",
    "from tqdm import tqdm\n",
    "import shutil"
   ]
  },
  {
   "cell_type": "code",
   "execution_count": 10,
   "id": "d3e0d82a-91e9-4a3d-a4eb-d79c80c2297e",
   "metadata": {},
   "outputs": [],
   "source": [
    "import logging\n",
    "import contextlib\n",
    "import tensorflow as tf\n",
    "import warnings\n",
    "from mtcnn import MTCNN\n",
    "from tqdm import tqdm\n",
    "\n",
    "# Suppress TensorFlow logging\n",
    "os.environ['TF_CPP_MIN_LOG_LEVEL'] = '3'  # Suppress TensorFlow logs at level 3 (ERROR)\n",
    "tf.get_logger().setLevel('ERROR')\n",
    "\n",
    "# Configure logging to suppress logs from TensorFlow and MTCNN\n",
    "logging.getLogger('tensorflow').setLevel(logging.FATAL)\n",
    "logging.getLogger('mtcnn').setLevel(logging.ERROR)\n",
    "\n",
    "# Suppress warnings\n",
    "warnings.filterwarnings('ignore')\n",
    "\n",
    "# Function to suppress stdout and stderr\n",
    "@contextlib.contextmanager\n",
    "def suppress_output():\n",
    "    with open(os.devnull, 'w', encoding='utf-8') as fnull:\n",
    "        with contextlib.redirect_stdout(fnull), contextlib.redirect_stderr(fnull):\n",
    "            yield\n",
    "\n",
    "def detect_faces_mtcnn(image):\n",
    "    \"\"\"\n",
    "    Detect faces using MTCNN and return bounding boxes in a format compatible with face_recognition.\n",
    "    \"\"\"\n",
    "    with suppress_output():\n",
    "        # Initialize the MTCNN detector without printing logs\n",
    "        detector = MTCNN()\n",
    "\n",
    "        # Detect faces in the image\n",
    "        faces = detector.detect_faces(image)\n",
    "\n",
    "        # Filter faces with confidence higher than 0.70 and extract their bounding boxes\n",
    "        rectangles = []\n",
    "        for face in faces:\n",
    "            if face['confidence'] > 0.50:\n",
    "                x, y, width, height = face['box']\n",
    "                # Convert to top, right, bottom, left format\n",
    "                top, right, bottom, left = y, x + width, y + height, x\n",
    "                rectangles.append((top, right, bottom, left))\n",
    "                \n",
    "        return rectangles"
   ]
  },
  {
   "cell_type": "code",
   "execution_count": 11,
   "id": "948cbb24-c157-4ca1-8d37-d2256d7d2b88",
   "metadata": {},
   "outputs": [],
   "source": [
    "\n",
    "def get_embeddings(rgb_image, face_locations):\n",
    "    \"\"\"\n",
    "    Extract face embeddings from the given image based on face locations.\n",
    "    Args:\n",
    "    rgb_image (np.array): RGB image from which to extract embeddings.\n",
    "    face_locations (list): List of face locations in (top, right, bottom, left) format.\n",
    "    Returns:\n",
    "    list: List of face encodings.\n",
    "    \"\"\"\n",
    "    if not face_locations:\n",
    "        return []\n",
    "    # Compute face embeddings\n",
    "    face_encodings = face_recognition.face_encodings(rgb_image, face_locations)\n",
    "    return face_encodings\n",
    "\n",
    "def process_images(dirpath):\n",
    "    \"\"\"\n",
    "    Process images in the given directory to extract face embeddings.\n",
    "    Args:\n",
    "    dirpath (str): Path to the directory containing images.\n",
    "    Returns:\n",
    "    list, list: List of embeddings and list of corresponding image paths.\n",
    "    \"\"\"\n",
    "    embeddings = []\n",
    "    image_paths = []\n",
    "\n",
    "    # Iterate over all files in the directory\n",
    "    for filename in tqdm(os.listdir(dirpath)):\n",
    "        file_path = os.path.join(dirpath, filename)\n",
    "        image = cv2.imread(file_path)\n",
    "\n",
    "        # Check if the image was loaded successfully\n",
    "        if image is None:\n",
    "            print(f\"Error: Could not load image from {file_path}\")\n",
    "            continue\n",
    "\n",
    "        # Convert the image from BGR to RGB for face_recognition\n",
    "        rgb_image = cv2.cvtColor(image, cv2.COLOR_BGR2RGB)\n",
    "\n",
    "        # Detect faces and extract face images\n",
    "        face_locations = detect_faces_mtcnn(rgb_image)\n",
    "\n",
    "        # Extract embeddings for each detected face\n",
    "        face_encodings = get_embeddings(rgb_image, face_locations)\n",
    "    \n",
    "        for encoding in face_encodings:\n",
    "            embeddings.append(encoding)\n",
    "            image_paths.append(file_path)\n",
    "\n",
    "    return embeddings, image_paths\n"
   ]
  },
  {
   "cell_type": "code",
   "execution_count": 28,
   "id": "1d37b15c-a746-45b9-a562-365262f3e07e",
   "metadata": {},
   "outputs": [
    {
     "data": {
      "text/plain": [
       "array([-2.19271317e-01,  1.58968139e-02, -1.17288902e-02, -4.92642969e-02,\n",
       "       -6.46822378e-02, -3.95706296e-02, -6.08498417e-02, -1.22916006e-01,\n",
       "        1.32741436e-01, -1.30527020e-01,  2.03926116e-01, -2.18902752e-02,\n",
       "       -1.91356286e-01, -1.17518902e-01,  9.75560397e-04,  1.03699826e-01,\n",
       "       -1.30550593e-01, -1.79571718e-01, -3.12549174e-02, -9.11375582e-02,\n",
       "        4.90420051e-02, -8.00062567e-02, -1.26742553e-02,  1.26451433e-01,\n",
       "       -2.80507535e-01, -3.16164911e-01, -1.23431042e-01, -9.27998275e-02,\n",
       "        3.99659798e-02, -1.11172020e-01,  6.00379985e-03,  2.05941740e-02,\n",
       "       -2.44743079e-01, -6.33531213e-02,  1.97250545e-02,  1.84824437e-01,\n",
       "        6.26464710e-02,  3.50554734e-02,  1.88893035e-01, -1.96172800e-02,\n",
       "       -1.36762396e-01, -9.26073175e-03,  1.02232352e-01,  2.61798471e-01,\n",
       "        1.56981736e-01,  7.86026567e-02,  4.58652712e-02,  6.24634326e-04,\n",
       "        1.13474488e-01, -2.45721877e-01,  6.65472299e-02,  6.62138015e-02,\n",
       "        1.78884417e-01,  4.74054180e-03,  9.09431949e-02, -1.73511416e-01,\n",
       "       -2.04276033e-02,  1.64910287e-01, -1.91833779e-01,  1.45984754e-01,\n",
       "        2.68209223e-02, -6.87709153e-02, -5.51492572e-02, -9.86474752e-03,\n",
       "        2.76268184e-01,  1.31128028e-01, -1.70881212e-01, -9.37693343e-02,\n",
       "        2.11404637e-01, -1.58931762e-01,  2.61917897e-02,  7.54666701e-02,\n",
       "       -5.34678772e-02, -1.75252169e-01, -3.26171309e-01,  7.50278309e-02,\n",
       "        4.38271612e-01,  1.77101612e-01, -1.90335721e-01,  4.21353206e-02,\n",
       "       -5.15029207e-02,  1.37213860e-02,  3.44090313e-02,  2.75975019e-02,\n",
       "       -1.10984966e-01,  2.04257295e-02, -9.40730721e-02,  6.90949410e-02,\n",
       "        1.83879152e-01,  1.22530609e-01,  5.70280012e-03,  1.55740306e-01,\n",
       "       -3.72140668e-03,  8.03471208e-02,  4.36503887e-02,  5.36252335e-02,\n",
       "       -1.82162330e-01, -8.34915861e-02, -8.79598334e-02,  8.25674273e-04,\n",
       "        4.91533428e-05, -2.89505757e-02,  8.23307782e-02,  1.24572776e-01,\n",
       "       -1.05273135e-01,  1.42717943e-01, -5.67601286e-02, -4.80447970e-02,\n",
       "       -8.05724338e-02,  1.60089120e-01, -1.25223115e-01, -4.60231937e-02,\n",
       "        7.53905326e-02, -3.12091500e-01,  1.49880692e-01,  1.60278141e-01,\n",
       "       -4.26032692e-02,  1.44024447e-01,  1.05993092e-01,  6.43710494e-02,\n",
       "        2.65879780e-02,  6.53904974e-02, -1.13748446e-01, -9.08677503e-02,\n",
       "        1.87082291e-02, -1.57254875e-01,  1.65023267e-01,  1.82340443e-02])"
      ]
     },
     "execution_count": 28,
     "metadata": {},
     "output_type": "execute_result"
    }
   ],
   "source": [
    "embeddings[3]"
   ]
  },
  {
   "cell_type": "code",
   "execution_count": 12,
   "id": "cf92f109-bba6-4370-84d2-7f3ad07f839e",
   "metadata": {},
   "outputs": [
    {
     "name": "stderr",
     "output_type": "stream",
     "text": [
      "100%|██████████████████████████████████████████████████████████████████████████████████| 13/13 [01:22<00:00,  6.35s/it]\n"
     ]
    }
   ],
   "source": [
    "dir= 'train4'\n",
    "embeddings,image_paths = process_images(dir)"
   ]
  },
  {
   "cell_type": "code",
   "execution_count": 34,
   "id": "cb3057fe-7de6-47cd-974f-5756acd1bd0f",
   "metadata": {},
   "outputs": [],
   "source": [
    "from sklearn.cluster import DBSCAN\n",
    "eps = 0.5  # The maximum distance between two samples for one to be considered as in the neighborhood of the other\n",
    "min_samples = 2  # The number of samples (or total weight) in a neighborhood for a point to be considered as a core point\n",
    "dbscan = DBSCAN(eps=eps, min_samples=min_samples)\n",
    "cluster_labels = dbscan.fit_predict(embeddings)\n"
   ]
  },
  {
   "cell_type": "code",
   "execution_count": 35,
   "id": "019faed8-dada-425c-bf8c-829a23f0ac16",
   "metadata": {},
   "outputs": [],
   "source": [
    "# from sklearn.cluster import KMeans\n",
    "\n",
    "# num_clusters = 5\n",
    "\n",
    "# # Apply K-means clustering on extracted features\n",
    "# kmeans = KMeans(n_clusters=num_clusters, random_state=42)\n",
    "# cluster_labels = kmeans.fit_predict(embeddings)"
   ]
  },
  {
   "cell_type": "code",
   "execution_count": 36,
   "id": "35e9df44-288e-4ae3-8881-12d54bf0780f",
   "metadata": {},
   "outputs": [
    {
     "data": {
      "text/plain": [
       "array([ 0,  0,  1,  1,  1,  1,  0, -1, -1,  1,  0, -1,  0,  1,  0,  0, -1,\n",
       "        0,  1,  1], dtype=int64)"
      ]
     },
     "execution_count": 36,
     "metadata": {},
     "output_type": "execute_result"
    }
   ],
   "source": [
    "cluster_labels"
   ]
  },
  {
   "cell_type": "code",
   "execution_count": 37,
   "id": "5a2448b1-2072-487c-9872-b87228deef5d",
   "metadata": {},
   "outputs": [],
   "source": []
  },
  {
   "cell_type": "code",
   "execution_count": 43,
   "id": "691ac5df-0406-4098-b483-bf21f4aa94c4",
   "metadata": {},
   "outputs": [
    {
     "name": "stdout",
     "output_type": "stream",
     "text": [
      "Copied '1615919242148.jpg' to 'Clusters_train4/Cluster_0/'\n",
      "Copied '1615919242221.jpg' to 'Clusters_train4/Cluster_0/'\n",
      "Copied '1628522161324.jpg' to 'Clusters_train4/Cluster_1/'\n",
      "Copied '1628594944197.jpg' to 'Clusters_train4/Cluster_1/'\n",
      "Copied '1628594944261.jpg' to 'Clusters_train4/Cluster_1/'\n",
      "Copied '1640669698002.jpg' to 'Clusters_train4/Cluster_1/'\n",
      "Copied '1640669698002.jpg' to 'Clusters_train4/Cluster_0/'\n",
      "Copied '1640669698002.jpg' to 'Clusters_train4/Cluster_-1/'\n",
      "Copied '1640669698002.jpg' to 'Clusters_train4/Cluster_-1/'\n",
      "Copied '1686134879804.jpg' to 'Clusters_train4/Cluster_1/'\n",
      "Copied '1686134879804.jpg' to 'Clusters_train4/Cluster_0/'\n",
      "Copied '1686134879804.jpg' to 'Clusters_train4/Cluster_-1/'\n",
      "Copied '1686134879824.jpg' to 'Clusters_train4/Cluster_0/'\n",
      "Copied '1686134879824.jpg' to 'Clusters_train4/Cluster_1/'\n",
      "Copied '8deVjGlgsFmydcYzXASRyOXUGMV.jpg' to 'Clusters_train4/Cluster_0/'\n",
      "Copied '8dYyRetSRJzwVLMxhuSAhRKvJst.jpg' to 'Clusters_train4/Cluster_0/'\n",
      "Copied '8dYyRetSRJzwVLMxhuSAhRKvJst.jpg' to 'Clusters_train4/Cluster_-1/'\n",
      "Copied '8emHWsGsfXbkEGFdUgzFNGBZfCH.jpg' to 'Clusters_train4/Cluster_0/'\n",
      "Copied 'IMG_20190302_145206.jpg' to 'Clusters_train4/Cluster_1/'\n",
      "Copied '_20191001_103914.JPG' to 'Clusters_train4/Cluster_1/'\n",
      "\n",
      "\n",
      "Processing completed.\n"
     ]
    }
   ],
   "source": [
    "base_cluster_dir = f'Clusters_{dir}'\n",
    "\n",
    "# Iterate over the image paths and cluster labels simultaneously\n",
    "for i, image_path in enumerate(image_paths):\n",
    "    cluster_label = cluster_labels[i]\n",
    "    \n",
    "    # Determine the destination cluster folder\n",
    "    cluster_folder = f'{base_cluster_dir}/Cluster_{cluster_label}/'\n",
    "    \n",
    "    # Create the cluster directory if it doesn't exist\n",
    "    os.makedirs(cluster_folder, exist_ok=True)\n",
    "    \n",
    "    # Get the filename from the image path\n",
    "    filename = os.path.basename(image_path)\n",
    "    \n",
    "    # Determine the destination path\n",
    "    destination_path = os.path.join(cluster_folder, filename)\n",
    "    \n",
    "    try:\n",
    "        # Check if the file exists at the source path\n",
    "        if not os.path.exists(image_path):\n",
    "            print(f\"Error: Source file '{image_path}' not found\")\n",
    "            continue\n",
    "        \n",
    "        # Perform the copy operation\n",
    "        shutil.copyfile(image_path, destination_path)\n",
    "        print(f\"Copied '{filename}' to '{cluster_folder}'\")\n",
    "\n",
    "    except FileExistsError:\n",
    "        print(f\"Error: '{filename}' already exists in '{cluster_folder}'\")\n",
    "    except Exception as e:\n",
    "        print(f\"Unexpected error while copying '{filename}': {str(e)}\")\n",
    "\n",
    "print(\"\\n\\nProcessing completed.\")"
   ]
  },
  {
   "cell_type": "code",
   "execution_count": 36,
   "id": "af795abe-a414-4679-9c78-4f5e8c8bc905",
   "metadata": {},
   "outputs": [],
   "source": []
  },
  {
   "cell_type": "code",
   "execution_count": null,
   "id": "9085c3cc-7d16-4e10-aef9-9db2df02e57a",
   "metadata": {},
   "outputs": [],
   "source": []
  },
  {
   "cell_type": "code",
   "execution_count": null,
   "id": "7ced6428-4bc0-4130-bc51-80918bd4ccc7",
   "metadata": {},
   "outputs": [],
   "source": []
  }
 ],
 "metadata": {
  "kernelspec": {
   "display_name": "Python 3 (ipykernel)",
   "language": "python",
   "name": "python3"
  },
  "language_info": {
   "codemirror_mode": {
    "name": "ipython",
    "version": 3
   },
   "file_extension": ".py",
   "mimetype": "text/x-python",
   "name": "python",
   "nbconvert_exporter": "python",
   "pygments_lexer": "ipython3",
   "version": "3.12.4"
  }
 },
 "nbformat": 4,
 "nbformat_minor": 5
}
